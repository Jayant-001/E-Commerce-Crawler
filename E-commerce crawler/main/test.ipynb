{
 "cells": [
  {
   "cell_type": "markdown",
   "id": "cutting-responsibility",
   "metadata": {},
   "source": [
    "# Python Practice"
   ]
  },
  {
   "cell_type": "code",
   "execution_count": 2,
   "id": "substantial-lawrence",
   "metadata": {},
   "outputs": [
    {
     "data": {
      "text/plain": [
       "{'id': 'jayant', 'name': 'aman', 'address': 'DLN'}"
      ]
     },
     "execution_count": 2,
     "metadata": {},
     "output_type": "execute_result"
    }
   ],
   "source": [
    "data = {\n",
    "    'id': 'jayant',\n",
    "    'name': 'aman',\n",
    "    'address': 'DLN',\n",
    "}\n",
    "data"
   ]
  },
  {
   "cell_type": "code",
   "execution_count": 33,
   "id": "tamil-observation",
   "metadata": {
    "scrolled": true
   },
   "outputs": [
    {
     "name": "stdout",
     "output_type": "stream",
     "text": [
      "address DLN\n",
      "id jayant\n",
      "name aman\n",
      "['address', 'id', 'name']\n"
     ]
    }
   ],
   "source": [
    "names = ['jayant', 'aman', 'raj', 'rahul']\n",
    "for i in sorted (data):\n",
    "    print(i, data[i])\n",
    "print(sorted(data))"
   ]
  },
  {
   "cell_type": "code",
   "execution_count": 17,
   "id": "republican-hearts",
   "metadata": {},
   "outputs": [
    {
     "data": {
      "text/plain": [
       "['address', 'id', 'name']"
      ]
     },
     "execution_count": 17,
     "metadata": {},
     "output_type": "execute_result"
    }
   ],
   "source": [
    "key = data.keys()\n",
    "key = list(key)\n",
    "key.sort()\n",
    "key"
   ]
  },
  {
   "cell_type": "code",
   "execution_count": 35,
   "id": "operational-cycling",
   "metadata": {},
   "outputs": [],
   "source": [
    "newData = data.copy()"
   ]
  },
  {
   "cell_type": "code",
   "execution_count": 36,
   "id": "conservative-installation",
   "metadata": {},
   "outputs": [
    {
     "data": {
      "text/plain": [
       "{'id': 'jayant', 'name': 'aman', 'address': 'DLN'}"
      ]
     },
     "execution_count": 36,
     "metadata": {},
     "output_type": "execute_result"
    }
   ],
   "source": [
    "newData"
   ]
  },
  {
   "cell_type": "code",
   "execution_count": 39,
   "id": "individual-clinic",
   "metadata": {},
   "outputs": [
    {
     "data": {
      "text/plain": [
       "True"
      ]
     },
     "execution_count": 39,
     "metadata": {},
     "output_type": "execute_result"
    }
   ],
   "source": [
    "data == newData"
   ]
  },
  {
   "cell_type": "code",
   "execution_count": 41,
   "id": "concerned-process",
   "metadata": {},
   "outputs": [],
   "source": [
    "newData['id'] = 191"
   ]
  },
  {
   "cell_type": "code",
   "execution_count": 53,
   "id": "stretch-hacker",
   "metadata": {},
   "outputs": [
    {
     "data": {
      "text/plain": [
       "dict_items([('id', 191), ('name', 'aman'), ('address', 'DLN')])"
      ]
     },
     "execution_count": 53,
     "metadata": {},
     "output_type": "execute_result"
    }
   ],
   "source": [
    "item = data.items()\n",
    "item"
   ]
  },
  {
   "cell_type": "code",
   "execution_count": 55,
   "id": "outstanding-medium",
   "metadata": {},
   "outputs": [
    {
     "name": "stdout",
     "output_type": "stream",
     "text": [
      "__main__\n"
     ]
    }
   ],
   "source": [
    "print(__name__)"
   ]
  },
  {
   "cell_type": "code",
   "execution_count": 73,
   "id": "usual-japan",
   "metadata": {},
   "outputs": [
    {
     "name": "stdout",
     "output_type": "stream",
     "text": [
      "(['jayant', 'raj', 'jay', 'rahul', 'akash', 'aman'],)\n",
      "(['jayant', 'aman', 'raj', 'rahul'],)\n"
     ]
    }
   ],
   "source": [
    "\n",
    "def show(*n):\n",
    "    print(n)\n",
    "show(['jayant', 'raj', 'jay', 'rahul', 'akash', 'aman'])\n",
    "\n",
    "show(names)"
   ]
  },
  {
   "cell_type": "code",
   "execution_count": null,
   "id": "convinced-carry",
   "metadata": {},
   "outputs": [],
   "source": []
  },
  {
   "cell_type": "code",
   "execution_count": null,
   "id": "instrumental-default",
   "metadata": {},
   "outputs": [],
   "source": []
  }
 ],
 "metadata": {
  "kernelspec": {
   "display_name": "Python 3",
   "language": "python",
   "name": "python3"
  },
  "language_info": {
   "codemirror_mode": {
    "name": "ipython",
    "version": 3
   },
   "file_extension": ".py",
   "mimetype": "text/x-python",
   "name": "python",
   "nbconvert_exporter": "python",
   "pygments_lexer": "ipython3",
   "version": "3.8.3"
  }
 },
 "nbformat": 4,
 "nbformat_minor": 5
}
