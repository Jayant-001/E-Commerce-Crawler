{
 "cells": [
  {
   "cell_type": "code",
   "execution_count": 65,
   "id": "republican-inventory",
   "metadata": {},
   "outputs": [],
   "source": [
    "import csv\n",
    "import requests\n",
    "from bs4 import BeautifulSoup\n",
    "\n",
    "name = 'asus rog'\n",
    "name = name.replace(' ', '-')\n",
    "url = 'https://www.olx.in/items/q-{}?isSearchCall=true'\n",
    "url = url.format(name)\n",
    "\n",
    "headers = {\n",
    "        'User-Agent': 'Mozilla/5.0 (Windows NT 10.0; Win64; x64) AppleWebKit/537.36 (KHTML, like Gecko) Chrome/87.0.4280.141 Safari/537.36'\n",
    "    }\n",
    "\n",
    "r = requests.get(url, headers=headers)\n",
    "soup = BeautifulSoup(r.content, 'html.parser')"
   ]
  },
  {
   "cell_type": "code",
   "execution_count": 66,
   "id": "meaningful-bishop",
   "metadata": {
    "scrolled": true
   },
   "outputs": [],
   "source": [
    "def get_details():\n",
    "    items = soup.find_all('li', class_='EIR5N')\n",
    "    data = []\n",
    "    for item in items:\n",
    "\n",
    "        # Title\n",
    "        title = item.find('span', class_='_2tW1I').text\n",
    "    #     print(title)\n",
    "\n",
    "        # Price \n",
    "        price = item.find('span', class_='_89yzn').text\n",
    "    #     print(price[2:].replace(',',''))\n",
    "\n",
    "        # Location\n",
    "        loc = item.find('span', class_='tjgMj').text\n",
    "    #     print(loc)\n",
    "\n",
    "        # Date \n",
    "        date = item.find('span', class_='zLvFQ').text\n",
    "    #     print(date)\n",
    "\n",
    "        d = (title, price, loc, date)\n",
    "        data.append(d)\n",
    "    return data\n",
    "\n",
    "d = get_details()"
   ]
  },
  {
   "cell_type": "code",
   "execution_count": 67,
   "id": "exclusive-fleece",
   "metadata": {},
   "outputs": [
    {
     "name": "stdout",
     "output_type": "stream",
     "text": [
      "Data fetched\n"
     ]
    }
   ],
   "source": [
    "with open('olx.csv', 'w', newline='', encoding='utf-8') as file:\n",
    "    writer = csv.writer(file)\n",
    "    writer.writerow(['Title', 'Price', 'Location', 'Date'])\n",
    "    writer.writerows(d)\n",
    "\n",
    "print(\"Data fetched\")"
   ]
  },
  {
   "cell_type": "code",
   "execution_count": null,
   "id": "rapid-neighborhood",
   "metadata": {},
   "outputs": [],
   "source": []
  },
  {
   "cell_type": "code",
   "execution_count": null,
   "id": "initial-diploma",
   "metadata": {},
   "outputs": [],
   "source": []
  }
 ],
 "metadata": {
  "kernelspec": {
   "display_name": "Python 3",
   "language": "python",
   "name": "python3"
  },
  "language_info": {
   "codemirror_mode": {
    "name": "ipython",
    "version": 3
   },
   "file_extension": ".py",
   "mimetype": "text/x-python",
   "name": "python",
   "nbconvert_exporter": "python",
   "pygments_lexer": "ipython3",
   "version": "3.8.3"
  }
 },
 "nbformat": 4,
 "nbformat_minor": 5
}
